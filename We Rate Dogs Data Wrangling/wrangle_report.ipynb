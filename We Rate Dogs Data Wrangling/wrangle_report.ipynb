{
 "cells": [
  {
   "cell_type": "markdown",
   "metadata": {},
   "source": [
    "# Wrangle Report\n"
   ]
  },
  {
   "cell_type": "markdown",
   "metadata": {},
   "source": [
    "## Introduction\n",
    "\n",
    "We Rate Dogs is a Twitter Account that provided us with an archive containing data from 2017 of Tweets of dogs, with ratings.\n",
    "The data set comes messy and untidy and I am tasked to clean the dataset to be ready for analysis. The process involves incorporating 3 data sources - Twitter Enhanced dataframe, Twitter API & Image prediction file.\n",
    "\n",
    "## 1) Gathering the Data\n",
    "\n",
    "There are 3 sources of which we utilised to gather data on the We Rate Dogs Tweets.\n",
    "\n",
    "1) Twitter_archive_enhanced.csv was provided by Udacity. The CSV was loaded into a dataframe called \"archive\"\n",
    "\n",
    "2) Image_predictions.tsv was provided by Udacity. The TSV file was loaded into a dataframe called \"predictions\"\n",
    "\n",
    "3) Tweepy API which was an additional datasource which we exract te favourite counts and retweet counts. This loaded into a dataframe called tweet_stats\n",
    "\n",
    "## 2) Assess the data\n",
    "\n",
    "Using visualising and programmtic assessing to find issues in the data. The following issues where identified:\n",
    "\n",
    "Quality Issues:\n",
    "1) Archive dataframe - tweet_id is an integar and needs to be a string data type. Timestamp is a string and needs to change to date data type.\n",
    "\n",
    "2/3) Archive dataframe - The dataframe is containing information that is not needed in the data - retweets & replies. (2) remove retweets & (3) replies. Drop the fields that relate to reply & retweet data\n",
    "\n",
    "4) Archive dataframe - All denominators need to be 10 - change denominators that are not 10 to 10\n",
    "\n",
    "\n",
    "5) Archive dataframe - 'name' column - there are names that are not nessecarily names in the values. Names starting with \"a\" or \"an\", \"the\" and \"my\" which should rather be \"None\"\n",
    "\n",
    "\n",
    "6) Predictions dataframe - There is some tweets that is predicted that it is not a dog, this data needs to be removed. Remove none dogs from the dataframe (column - p1_dog, p2_dog or p3_dog). Combine into one column called \"breed\" and with its associated confidence\n",
    "\n",
    "\n",
    "7) Tweet_stats dataframe - ID is a integar data type where it needs to be a string. For joining purposes, it is best that 'id' be renamed to 'tweet_id' and so that there is no confusion in understanding that those columns contain the same information. Convert ID to string data type & rename to tweet_ID\n",
    "\n",
    "\n",
    "8) Predictions dataframe - tweet_id a integar and needs to be a string. Change tweet_id to string data_type\n",
    "\n",
    "\n",
    "Tidiness Issues:\n",
    "9) Archive dataframe - doggo, floofer, pupper & puppo are in 4 seperate columns - should be in one column & categorical\n",
    "\n",
    "10) To compare dog scores relativey to one another it is best practise to create a score of percentages to compare. Create column with rating in archive daraframe using the rating_numerator & rating_denominator\n",
    "\n",
    "\n",
    "## 3) Clean the Data\n",
    "\n",
    "Before cleaning the data, a copy of the dataframe needs to be made:\n",
    "1. Archive_clean\n",
    "2. Predictions_clean\n",
    "3. Tweet_stats_clean\n",
    "\n",
    "The following needs to be done:\n",
    "1) Archive_clean = tweet_id needs to be a string data type. Timestamp needs to change to date data type.\n",
    "2) Remove retweets from archive_clean dataframe\n",
    "3) Remove replies from archive_clean dataframe\n",
    "4) Archive_clean dataframe - change denominators that are not 10 to 10\n",
    "5) Archive_clean dataframe - name column - make names starting with \"a\" or \"an\", \"the\" and \"my\" which should rather be \"None\"\n",
    "6) Predictions dataframe - remove none dogs from the dataframe (column - p1_dog, p2_dog or p3_dog). Combine into one column called \"breed\" and with its associated confidence\n",
    "7) Tweet_stats dataframe - convert ID to string data type & rename to tweet_ID\n",
    "8) Predictions dataframe - change tweet_id to string data_type\n",
    "\n",
    "9) Archive dataframe - doggo, floofer, pupper & puppo should be in one column (breed) & make the column categorical. Drop unnessecary colums once breed column is created.\n",
    "10) Create column with rating in archive daraframe using the rating_numerator & rating_denominator\n",
    "\n",
    "## 4) Store Data\n",
    "\n",
    "Create one master CSV with all the data_frames combined - joined in the tweet_id primary key. Call the CSV: twitter_archive_master.csv"
   ]
  }
 ],
 "metadata": {
  "kernelspec": {
   "display_name": "Python 3",
   "language": "python",
   "name": "python3"
  },
  "language_info": {
   "codemirror_mode": {
    "name": "ipython",
    "version": 3
   },
   "file_extension": ".py",
   "mimetype": "text/x-python",
   "name": "python",
   "nbconvert_exporter": "python",
   "pygments_lexer": "ipython3",
   "version": "3.6.3"
  }
 },
 "nbformat": 4,
 "nbformat_minor": 2
}
